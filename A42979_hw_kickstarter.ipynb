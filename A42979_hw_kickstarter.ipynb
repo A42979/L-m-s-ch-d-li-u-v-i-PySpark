{
  "cells": [
    {
      "cell_type": "markdown",
      "source": [
        "# Set Up"
      ],
      "metadata": {
        "id": "P0Jv6vQ_0WxM"
      },
      "id": "P0Jv6vQ_0WxM"
    },
    {
      "cell_type": "code",
      "source": [
        "!pip install pyspark"
      ],
      "outputs": [
        {
          "output_type": "stream",
          "name": "stdout",
          "text": "Requirement already satisfied: pyspark in /usr/local/lib/python3.10/dist-packages (3.5.1)\nRequirement already satisfied: py4j==0.10.9.7 in /usr/local/lib/python3.10/dist-packages (from pyspark) (0.10.9.7)\n"
        }
      ],
      "execution_count": 26,
      "metadata": {
        "id": "yLBKYPb90YDe",
        "colab": {
          "base_uri": "https://localhost:8080/"
        },
        "outputId": "82ac5261-30bd-40e5-bc60-7c8d1c12e510"
      },
      "id": "yLBKYPb90YDe"
    },
    {
      "cell_type": "code",
      "source": [
        "# Import SparkSession from pyspark.sql\n",
        "from pyspark.sql import SparkSession\n",
        "\n",
        "# Import functions from pyspark.sql.functions\n",
        "from pyspark.sql.functions import *\n",
        "\n",
        "# For using window functions for aggregations or rankings\n",
        "from pyspark.sql.window import Window\n",
        "\n",
        "# For using data types when defining schemas or manipulating columns\n",
        "from pyspark.sql.types import *\n",
        "\n",
        "# Create a SparkSession, which is the entry point to programming Spark with the Dataset and DataFrame API\n",
        "spark = SparkSession.builder \\\n",
        "    .appName(\"Data Cleaning with PySpark\") \\\n",
        "    .getOrCreate()"
      ],
      "outputs": [],
      "execution_count": 27,
      "metadata": {
        "id": "ziiyr5z50kpx"
      },
      "id": "ziiyr5z50kpx"
    },
    {
      "cell_type": "code",
      "source": [
        "# Load dataset\n",
        "df = spark.read.csv('kickstarter_data.csv', header=True, inferSchema=True)\n",
        "\n",
        "# First 5 rows of the dataframe\n",
        "df.show(5)"
      ],
      "outputs": [
        {
          "output_type": "stream",
          "name": "stdout",
          "text": "+---+----------+--------------------+--------------+-------------+--------+----------+-------+-------------------+-------+--------+-------+-------+-----------+----------------+-------------+\n|_c0|        ID|                name|      category|main_category|currency|  deadline|   goal|           launched|pledged|   state|backers|country|usd pledged|usd_pledged_real|usd_goal_real|\n+---+----------+--------------------+--------------+-------------+--------+----------+-------+-------------------+-------+--------+-------+-------+-----------+----------------+-------------+\n|  0|1000002330|The Songs of Adel...|        Poetry|   Publishing|     GBP|2015-10-09| 1000.0|2015-08-11 12:12:28|    0.0|  failed|      0|     GB|        0.0|             0.0|      1533.95|\n|  1|1000003930|Greeting From Ear...|Narrative Film| Film & Video|     USD|2017-11-01|30000.0|2017-09-02 04:43:57| 2421.0|  failed|     15|     US|      100.0|          2421.0|      30000.0|\n|  2|1000004038|      Where is Hank?|Narrative Film| Film & Video|     USD|2013-02-26|45000.0|2013-01-12 00:20:50|  220.0|  failed|      3|     US|      220.0|           220.0|      45000.0|\n|  3|1000007540|ToshiCapital Reko...|         Music|        Music|     USD|2012-04-16| 5000.0|2012-03-17 03:24:11|    1.0|  failed|      1|     US|        1.0|             1.0|       5000.0|\n|  4|1000011046|Community Film Pr...|  Film & Video| Film & Video|     USD|2015-08-29|19500.0|2015-07-04 08:35:03| 1283.0|canceled|     14|     US|     1283.0|          1283.0|      19500.0|\n+---+----------+--------------------+--------------+-------------+--------+----------+-------+-------------------+-------+--------+-------+-------+-----------+----------------+-------------+\nonly showing top 5 rows\n\n"
        }
      ],
      "execution_count": 28,
      "metadata": {
        "id": "32c14a03",
        "colab": {
          "base_uri": "https://localhost:8080/"
        },
        "outputId": "4183b204-9a5c-4390-a50d-4075e1cf6403"
      },
      "id": "32c14a03"
    },
    {
      "cell_type": "markdown",
      "source": [
        "**ANNOTATION**\n",
        "\n",
        "Dataframe Columns:\n",
        "    - `goal`: Goal set at the launched time.\n",
        "\n",
        "    - `pledge`: Total amount of funding the project successfully called.\n",
        "\n",
        "    - `backers`: Number of investors that fund the project.\n",
        "\n",
        "    - `usd pledged`: conversion in US dollars of the pledged column (conversion done by kickstarter).\n",
        "\n",
        "    - `usd_pledge_real`: conversion in US dollars of the pledged column (conversion from Fixer.io API).\n",
        "\n",
        "    - `usd_goal_real`: conversion in US dollars of the goal column (conversion from Fixer.io API).\n",
        "\n",
        "The dataset is acquired from Kaggle.com. You can visit it here: https://www.kaggle.com/kemical/kickstarter-projects"
      ],
      "metadata": {
        "id": "f38a62c6"
      },
      "id": "f38a62c6"
    },
    {
      "cell_type": "markdown",
      "source": [
        "# A. OVERVIEW AND CLEAN"
      ],
      "metadata": {
        "id": "KTG243xAxUxy"
      },
      "id": "KTG243xAxUxy"
    },
    {
      "cell_type": "markdown",
      "source": [
        "## **A.1** - Remove unwanted observations"
      ],
      "metadata": {
        "id": "cda04901"
      },
      "id": "cda04901"
    },
    {
      "cell_type": "markdown",
      "source": [
        "### Question 1"
      ],
      "metadata": {
        "id": "3OUNhT3lI_96"
      },
      "id": "3OUNhT3lI_96"
    },
    {
      "cell_type": "markdown",
      "source": [
        "We have many columns for the pledge and goal with different conversions.\n",
        "\n",
        "For this analysis, we choose to keep only `usd_pledged_real` and `usd_goal_real`.\n",
        "\n",
        "Write one line of code to drop the columns `goal`, `pledged`, `usd pledged`."
      ],
      "metadata": {
        "id": "SPEI3C7H-wxQ"
      },
      "id": "SPEI3C7H-wxQ"
    },
    {
      "cell_type": "code",
      "source": [
        "df = df.drop('goal', 'pledged', 'usd pledged')"
      ],
      "outputs": [],
      "execution_count": 29,
      "metadata": {
        "id": "5f72a2ee"
      },
      "id": "5f72a2ee"
    },
    {
      "cell_type": "code",
      "source": [
        "df.show()"
      ],
      "outputs": [
        {
          "output_type": "stream",
          "name": "stdout",
          "text": "+---+----------+--------------------+--------------+-------------+--------+----------+-------------------+----------+-------+-------+----------------+-------------+\n|_c0|        ID|                name|      category|main_category|currency|  deadline|           launched|     state|backers|country|usd_pledged_real|usd_goal_real|\n+---+----------+--------------------+--------------+-------------+--------+----------+-------------------+----------+-------+-------+----------------+-------------+\n|  0|1000002330|The Songs of Adel...|        Poetry|   Publishing|     GBP|2015-10-09|2015-08-11 12:12:28|    failed|      0|     GB|             0.0|      1533.95|\n|  1|1000003930|Greeting From Ear...|Narrative Film| Film & Video|     USD|2017-11-01|2017-09-02 04:43:57|    failed|     15|     US|          2421.0|      30000.0|\n|  2|1000004038|      Where is Hank?|Narrative Film| Film & Video|     USD|2013-02-26|2013-01-12 00:20:50|    failed|      3|     US|           220.0|      45000.0|\n|  3|1000007540|ToshiCapital Reko...|         Music|        Music|     USD|2012-04-16|2012-03-17 03:24:11|    failed|      1|     US|             1.0|       5000.0|\n|  4|1000011046|Community Film Pr...|  Film & Video| Film & Video|     USD|2015-08-29|2015-07-04 08:35:03|  canceled|     14|     US|          1283.0|      19500.0|\n|  5|1000014025|Monarch Espresso Bar|   Restaurants|         Food|     USD|2016-04-01|2016-02-26 13:38:27|successful|    224|     US|         52375.0|      50000.0|\n|  6|1000023410|Support Solar Roa...|          Food|         Food|     USD|2014-12-21|2014-12-01 18:30:44|successful|     16|     US|          1205.0|       1000.0|\n|  7|1000030581|Chaser Strips. Ou...|        Drinks|         Food|     USD|2016-03-17|2016-02-01 20:05:12|    failed|     40|     US|           453.0|      25000.0|\n|  8|1000034518|SPIN - Premium Re...|Product Design|       Design|     USD|2014-05-29|2014-04-24 18:14:43|  canceled|     58|     US|          8233.0|     125000.0|\n|  9| 100004195|STUDIO IN THE SKY...|   Documentary| Film & Video|     USD|2014-08-10|2014-07-11 21:55:48|  canceled|     43|     US|         6240.57|      65000.0|\n| 10| 100004721| Of Jesus and Madmen|    Nonfiction|   Publishing|     CAD|2013-10-09|2013-09-09 18:19:37|    failed|      0|     CA|             0.0|      2406.39|\n| 11| 100005484|    Lisa Lim New CD!|    Indie Rock|        Music|     USD|2013-04-08|2013-03-09 06:42:58|successful|    100|     US|         12700.0|      12500.0|\n| 12|1000055792|  The Cottage Market|        Crafts|       Crafts|     USD|2014-10-02|2014-09-02 17:11:50|    failed|      0|     US|             0.0|       5000.0|\n| 13|1000056157|G-Spot Place for ...|         Games|        Games|     USD|2016-03-25|2016-02-09 23:01:12|    failed|      0|     US|             0.0|     200000.0|\n| 14|1000057089|Tombstone: Old We...|Tabletop Games|        Games|     GBP|2017-05-03|2017-04-05 19:44:18|successful|    761|     GB|       121857.33|      6469.73|\n| 15|1000064368|      Survival Rings|        Design|       Design|     USD|2015-02-28|2015-01-29 02:10:53|    failed|     11|     US|           664.0|       2500.0|\n| 16|1000064918|           The Beard|   Comic Books|       Comics|     USD|2014-11-08|2014-10-09 22:27:52|    failed|     16|     US|           395.0|       1500.0|\n| 17|1000068480|Notes From London...|     Art Books|   Publishing|     USD|2015-05-10|2015-04-10 21:20:54|    failed|     20|     US|           789.0|       3000.0|\n| 18|1000070642|Mike Corey's Dark...|         Music|        Music|     USD|2012-08-17|2012-08-02 14:11:32|successful|      7|     US|           250.0|        250.0|\n| 19|1000071625|            Boco Tea|          Food|         Food|     USD|2012-06-02|2012-05-03 17:24:32|    failed|     40|     US|          1781.0|       5000.0|\n+---+----------+--------------------+--------------+-------------+--------+----------+-------------------+----------+-------+-------+----------------+-------------+\nonly showing top 20 rows\n\n"
        }
      ],
      "execution_count": 30,
      "metadata": {
        "colab": {
          "base_uri": "https://localhost:8080/"
        },
        "id": "R7bgIZMG9Qe1",
        "outputId": "23347c99-44b6-4725-b666-e176ef018c41"
      },
      "id": "R7bgIZMG9Qe1"
    },
    {
      "cell_type": "markdown",
      "source": [
        "### Question 2"
      ],
      "metadata": {
        "id": "XIO0WixTJGN_"
      },
      "id": "XIO0WixTJGN_"
    },
    {
      "cell_type": "markdown",
      "source": [
        "For future convenience, let's rename the columns as follows:\n",
        "\n",
        "- `usd_pledged_real` --> `pledged`\n",
        "- `usd_goal_real` --> `goal`\n",
        "\n",
        "Write your code to do that below."
      ],
      "metadata": {
        "id": "2UmpzfIR-zyQ"
      },
      "id": "2UmpzfIR-zyQ"
    },
    {
      "cell_type": "code",
      "source": [
        "df = df.withColumnRenamed('usd_pledged_real', 'pledged')\n",
        "df.show()"
      ],
      "outputs": [
        {
          "output_type": "stream",
          "name": "stdout",
          "text": "+---+----------+--------------------+--------------+-------------+--------+----------+-------------------+----------+-------+-------+---------+-------------+\n|_c0|        ID|                name|      category|main_category|currency|  deadline|           launched|     state|backers|country|  pledged|usd_goal_real|\n+---+----------+--------------------+--------------+-------------+--------+----------+-------------------+----------+-------+-------+---------+-------------+\n|  0|1000002330|The Songs of Adel...|        Poetry|   Publishing|     GBP|2015-10-09|2015-08-11 12:12:28|    failed|      0|     GB|      0.0|      1533.95|\n|  1|1000003930|Greeting From Ear...|Narrative Film| Film & Video|     USD|2017-11-01|2017-09-02 04:43:57|    failed|     15|     US|   2421.0|      30000.0|\n|  2|1000004038|      Where is Hank?|Narrative Film| Film & Video|     USD|2013-02-26|2013-01-12 00:20:50|    failed|      3|     US|    220.0|      45000.0|\n|  3|1000007540|ToshiCapital Reko...|         Music|        Music|     USD|2012-04-16|2012-03-17 03:24:11|    failed|      1|     US|      1.0|       5000.0|\n|  4|1000011046|Community Film Pr...|  Film & Video| Film & Video|     USD|2015-08-29|2015-07-04 08:35:03|  canceled|     14|     US|   1283.0|      19500.0|\n|  5|1000014025|Monarch Espresso Bar|   Restaurants|         Food|     USD|2016-04-01|2016-02-26 13:38:27|successful|    224|     US|  52375.0|      50000.0|\n|  6|1000023410|Support Solar Roa...|          Food|         Food|     USD|2014-12-21|2014-12-01 18:30:44|successful|     16|     US|   1205.0|       1000.0|\n|  7|1000030581|Chaser Strips. Ou...|        Drinks|         Food|     USD|2016-03-17|2016-02-01 20:05:12|    failed|     40|     US|    453.0|      25000.0|\n|  8|1000034518|SPIN - Premium Re...|Product Design|       Design|     USD|2014-05-29|2014-04-24 18:14:43|  canceled|     58|     US|   8233.0|     125000.0|\n|  9| 100004195|STUDIO IN THE SKY...|   Documentary| Film & Video|     USD|2014-08-10|2014-07-11 21:55:48|  canceled|     43|     US|  6240.57|      65000.0|\n| 10| 100004721| Of Jesus and Madmen|    Nonfiction|   Publishing|     CAD|2013-10-09|2013-09-09 18:19:37|    failed|      0|     CA|      0.0|      2406.39|\n| 11| 100005484|    Lisa Lim New CD!|    Indie Rock|        Music|     USD|2013-04-08|2013-03-09 06:42:58|successful|    100|     US|  12700.0|      12500.0|\n| 12|1000055792|  The Cottage Market|        Crafts|       Crafts|     USD|2014-10-02|2014-09-02 17:11:50|    failed|      0|     US|      0.0|       5000.0|\n| 13|1000056157|G-Spot Place for ...|         Games|        Games|     USD|2016-03-25|2016-02-09 23:01:12|    failed|      0|     US|      0.0|     200000.0|\n| 14|1000057089|Tombstone: Old We...|Tabletop Games|        Games|     GBP|2017-05-03|2017-04-05 19:44:18|successful|    761|     GB|121857.33|      6469.73|\n| 15|1000064368|      Survival Rings|        Design|       Design|     USD|2015-02-28|2015-01-29 02:10:53|    failed|     11|     US|    664.0|       2500.0|\n| 16|1000064918|           The Beard|   Comic Books|       Comics|     USD|2014-11-08|2014-10-09 22:27:52|    failed|     16|     US|    395.0|       1500.0|\n| 17|1000068480|Notes From London...|     Art Books|   Publishing|     USD|2015-05-10|2015-04-10 21:20:54|    failed|     20|     US|    789.0|       3000.0|\n| 18|1000070642|Mike Corey's Dark...|         Music|        Music|     USD|2012-08-17|2012-08-02 14:11:32|successful|      7|     US|    250.0|        250.0|\n| 19|1000071625|            Boco Tea|          Food|         Food|     USD|2012-06-02|2012-05-03 17:24:32|    failed|     40|     US|   1781.0|       5000.0|\n+---+----------+--------------------+--------------+-------------+--------+----------+-------------------+----------+-------+-------+---------+-------------+\nonly showing top 20 rows\n\n"
        }
      ],
      "execution_count": 31,
      "metadata": {
        "id": "6a34ba92",
        "colab": {
          "base_uri": "https://localhost:8080/"
        },
        "outputId": "6d6cc34e-fcc6-4ead-f3d7-98076c35e524"
      },
      "id": "6a34ba92"
    },
    {
      "cell_type": "code",
      "source": [
        "df = df.withColumnRenamed('usd_goal_real', 'goal')\n",
        "df.show()"
      ],
      "outputs": [
        {
          "output_type": "stream",
          "name": "stdout",
          "text": "+---+----------+--------------------+--------------+-------------+--------+----------+-------------------+----------+-------+-------+---------+--------+\n|_c0|        ID|                name|      category|main_category|currency|  deadline|           launched|     state|backers|country|  pledged|    goal|\n+---+----------+--------------------+--------------+-------------+--------+----------+-------------------+----------+-------+-------+---------+--------+\n|  0|1000002330|The Songs of Adel...|        Poetry|   Publishing|     GBP|2015-10-09|2015-08-11 12:12:28|    failed|      0|     GB|      0.0| 1533.95|\n|  1|1000003930|Greeting From Ear...|Narrative Film| Film & Video|     USD|2017-11-01|2017-09-02 04:43:57|    failed|     15|     US|   2421.0| 30000.0|\n|  2|1000004038|      Where is Hank?|Narrative Film| Film & Video|     USD|2013-02-26|2013-01-12 00:20:50|    failed|      3|     US|    220.0| 45000.0|\n|  3|1000007540|ToshiCapital Reko...|         Music|        Music|     USD|2012-04-16|2012-03-17 03:24:11|    failed|      1|     US|      1.0|  5000.0|\n|  4|1000011046|Community Film Pr...|  Film & Video| Film & Video|     USD|2015-08-29|2015-07-04 08:35:03|  canceled|     14|     US|   1283.0| 19500.0|\n|  5|1000014025|Monarch Espresso Bar|   Restaurants|         Food|     USD|2016-04-01|2016-02-26 13:38:27|successful|    224|     US|  52375.0| 50000.0|\n|  6|1000023410|Support Solar Roa...|          Food|         Food|     USD|2014-12-21|2014-12-01 18:30:44|successful|     16|     US|   1205.0|  1000.0|\n|  7|1000030581|Chaser Strips. Ou...|        Drinks|         Food|     USD|2016-03-17|2016-02-01 20:05:12|    failed|     40|     US|    453.0| 25000.0|\n|  8|1000034518|SPIN - Premium Re...|Product Design|       Design|     USD|2014-05-29|2014-04-24 18:14:43|  canceled|     58|     US|   8233.0|125000.0|\n|  9| 100004195|STUDIO IN THE SKY...|   Documentary| Film & Video|     USD|2014-08-10|2014-07-11 21:55:48|  canceled|     43|     US|  6240.57| 65000.0|\n| 10| 100004721| Of Jesus and Madmen|    Nonfiction|   Publishing|     CAD|2013-10-09|2013-09-09 18:19:37|    failed|      0|     CA|      0.0| 2406.39|\n| 11| 100005484|    Lisa Lim New CD!|    Indie Rock|        Music|     USD|2013-04-08|2013-03-09 06:42:58|successful|    100|     US|  12700.0| 12500.0|\n| 12|1000055792|  The Cottage Market|        Crafts|       Crafts|     USD|2014-10-02|2014-09-02 17:11:50|    failed|      0|     US|      0.0|  5000.0|\n| 13|1000056157|G-Spot Place for ...|         Games|        Games|     USD|2016-03-25|2016-02-09 23:01:12|    failed|      0|     US|      0.0|200000.0|\n| 14|1000057089|Tombstone: Old We...|Tabletop Games|        Games|     GBP|2017-05-03|2017-04-05 19:44:18|successful|    761|     GB|121857.33| 6469.73|\n| 15|1000064368|      Survival Rings|        Design|       Design|     USD|2015-02-28|2015-01-29 02:10:53|    failed|     11|     US|    664.0|  2500.0|\n| 16|1000064918|           The Beard|   Comic Books|       Comics|     USD|2014-11-08|2014-10-09 22:27:52|    failed|     16|     US|    395.0|  1500.0|\n| 17|1000068480|Notes From London...|     Art Books|   Publishing|     USD|2015-05-10|2015-04-10 21:20:54|    failed|     20|     US|    789.0|  3000.0|\n| 18|1000070642|Mike Corey's Dark...|         Music|        Music|     USD|2012-08-17|2012-08-02 14:11:32|successful|      7|     US|    250.0|   250.0|\n| 19|1000071625|            Boco Tea|          Food|         Food|     USD|2012-06-02|2012-05-03 17:24:32|    failed|     40|     US|   1781.0|  5000.0|\n+---+----------+--------------------+--------------+-------------+--------+----------+-------------------+----------+-------+-------+---------+--------+\nonly showing top 20 rows\n\n"
        }
      ],
      "execution_count": 32,
      "metadata": {
        "colab": {
          "base_uri": "https://localhost:8080/"
        },
        "id": "ilXMEKy0-Xq2",
        "outputId": "f3abaee8-1e7a-45ad-ffa7-52b721e425f7"
      },
      "id": "ilXMEKy0-Xq2"
    },
    {
      "cell_type": "markdown",
      "source": [
        "## **A.2** - Structural Error, Correct Datatype\n",
        "---"
      ],
      "metadata": {
        "id": "23cdcaad"
      },
      "id": "23cdcaad"
    },
    {
      "cell_type": "markdown",
      "source": [
        "### Question 3"
      ],
      "metadata": {
        "id": "6b1569d3"
      },
      "id": "6b1569d3"
    },
    {
      "cell_type": "markdown",
      "source": [
        "Write one line of code to print the overall information of the dataset. Are there any columns that you feel like they have the wrong datatype?"
      ],
      "metadata": {
        "id": "hhcdUFaT_l_n"
      },
      "id": "hhcdUFaT_l_n"
    },
    {
      "cell_type": "code",
      "source": [
        "df.printSchema()"
      ],
      "outputs": [
        {
          "output_type": "stream",
          "name": "stdout",
          "text": "root\n |-- _c0: integer (nullable = true)\n |-- ID: integer (nullable = true)\n |-- name: string (nullable = true)\n |-- category: string (nullable = true)\n |-- main_category: string (nullable = true)\n |-- currency: string (nullable = true)\n |-- deadline: string (nullable = true)\n |-- launched: string (nullable = true)\n |-- state: string (nullable = true)\n |-- backers: string (nullable = true)\n |-- country: string (nullable = true)\n |-- pledged: string (nullable = true)\n |-- goal: string (nullable = true)\n\n"
        }
      ],
      "execution_count": 33,
      "metadata": {
        "id": "5dece5cf",
        "colab": {
          "base_uri": "https://localhost:8080/"
        },
        "outputId": "d33fe0b8-afac-4101-f22c-5671fb998a98"
      },
      "id": "5dece5cf"
    },
    {
      "cell_type": "code",
      "source": [
        "# Du lieu bi sai dinh dang o cot ()"
      ],
      "outputs": [],
      "execution_count": 34,
      "metadata": {
        "id": "h0e_i4VY_o5i"
      },
      "id": "h0e_i4VY_o5i"
    },
    {
      "cell_type": "markdown",
      "source": [
        "### Question 4"
      ],
      "metadata": {
        "id": "kbxQPpKWJetJ"
      },
      "id": "kbxQPpKWJetJ"
    },
    {
      "cell_type": "markdown",
      "source": [
        "Convert the `launched` and `deadline` to `datetime` datatype."
      ],
      "metadata": {
        "id": "e333663c"
      },
      "id": "e333663c"
    },
    {
      "cell_type": "code",
      "source": [
        "df = df.withColumn(\"launched\", to_date(df[\"launched\"]))\n",
        "df = df.withColumn(\"deadline\", to_date(df[\"deadline\"]))\n",
        "df.printSchema()"
      ],
      "outputs": [
        {
          "output_type": "stream",
          "name": "stdout",
          "text": "root\n |-- _c0: integer (nullable = true)\n |-- ID: integer (nullable = true)\n |-- name: string (nullable = true)\n |-- category: string (nullable = true)\n |-- main_category: string (nullable = true)\n |-- currency: string (nullable = true)\n |-- deadline: date (nullable = true)\n |-- launched: date (nullable = true)\n |-- state: string (nullable = true)\n |-- backers: string (nullable = true)\n |-- country: string (nullable = true)\n |-- pledged: string (nullable = true)\n |-- goal: string (nullable = true)\n\n"
        }
      ],
      "execution_count": 35,
      "metadata": {
        "id": "f9893cf8",
        "colab": {
          "base_uri": "https://localhost:8080/"
        },
        "outputId": "600f5e4c-4a50-4b6f-e1a9-fe995de713f7"
      },
      "id": "f9893cf8"
    },
    {
      "cell_type": "markdown",
      "source": [
        "Check info one more time to make sure everything goes as plan."
      ],
      "metadata": {
        "id": "e376aad4"
      },
      "id": "e376aad4"
    },
    {
      "cell_type": "code",
      "source": [
        "df = df.withColumn(\"backers\", df[\"backers\"].cast(IntegerType()))\n",
        "df = df.withColumn(\"pledged\", df[\"pledged\"].cast(IntegerType()))\n",
        "df = df.withColumn(\"goal\", df[\"goal\"].cast(IntegerType()))\n",
        "df.printSchema()"
      ],
      "outputs": [
        {
          "output_type": "stream",
          "name": "stdout",
          "text": "root\n |-- _c0: integer (nullable = true)\n |-- ID: integer (nullable = true)\n |-- name: string (nullable = true)\n |-- category: string (nullable = true)\n |-- main_category: string (nullable = true)\n |-- currency: string (nullable = true)\n |-- deadline: date (nullable = true)\n |-- launched: date (nullable = true)\n |-- state: string (nullable = true)\n |-- backers: integer (nullable = true)\n |-- country: string (nullable = true)\n |-- pledged: integer (nullable = true)\n |-- goal: integer (nullable = true)\n\n"
        }
      ],
      "execution_count": 36,
      "metadata": {
        "colab": {
          "base_uri": "https://localhost:8080/"
        },
        "id": "w2SFyJgYA1CO",
        "outputId": "58cf4068-255b-4129-f2ca-ea1c3ef65499"
      },
      "id": "w2SFyJgYA1CO"
    },
    {
      "cell_type": "markdown",
      "source": [
        "## **A.3** - Handling Missing Values\n",
        "---"
      ],
      "metadata": {
        "id": "cIp2lkEK2eq5"
      },
      "id": "cIp2lkEK2eq5"
    },
    {
      "cell_type": "markdown",
      "source": [
        "### Question 5"
      ],
      "metadata": {
        "id": "b5779535"
      },
      "id": "b5779535"
    },
    {
      "cell_type": "markdown",
      "source": [
        "Give the number of null values in *each* column."
      ],
      "metadata": {
        "id": "e9yTYukBt7Lx"
      },
      "id": "e9yTYukBt7Lx"
    },
    {
      "cell_type": "code",
      "source": [
        "# Count the number of null values in each column\n",
        "null_counts = df.agg(*(sum(col(c).isNull().cast(\"int\")).alias(c) for c in df.columns))\n",
        "\n",
        "# Show the results\n",
        "null_counts.show()"
      ],
      "outputs": [
        {
          "output_type": "stream",
          "name": "stdout",
          "text": "+---+---+----+--------+-------------+--------+--------+--------+-----+-------+-------+-------+----+\n|_c0| ID|name|category|main_category|currency|deadline|launched|state|backers|country|pledged|goal|\n+---+---+----+--------+-------------+--------+--------+--------+-----+-------+-------+-------+----+\n|  0|  0|   4|       0|            3|       4|    1297|    1114|    5|   1111|      5|    198|  24|\n+---+---+----+--------+-------------+--------+--------+--------+-----+-------+-------+-------+----+\n\n"
        }
      ],
      "execution_count": 37,
      "metadata": {
        "colab": {
          "base_uri": "https://localhost:8080/"
        },
        "id": "6F_04DSdC3Hm",
        "outputId": "d98e60b9-c2db-40dc-a2b3-f418a5a28258"
      },
      "id": "6F_04DSdC3Hm"
    },
    {
      "cell_type": "markdown",
      "source": [
        "### Question 6"
      ],
      "metadata": {
        "id": "63542259"
      },
      "id": "63542259"
    },
    {
      "cell_type": "markdown",
      "source": [
        "Write one line of code to fill all the `NaN` values in name with `Unknown`."
      ],
      "metadata": {
        "id": "1RWVsdDT_uuu"
      },
      "id": "1RWVsdDT_uuu"
    },
    {
      "cell_type": "code",
      "source": [
        "df = df.na.fill('Unknown', subset=['name'])"
      ],
      "outputs": [],
      "execution_count": 38,
      "metadata": {
        "id": "aecb0847"
      },
      "id": "aecb0847"
    },
    {
      "cell_type": "code",
      "source": [
        "df.show()"
      ],
      "outputs": [
        {
          "output_type": "stream",
          "name": "stdout",
          "text": "+---+----------+--------------------+--------------+-------------+--------+----------+----------+----------+-------+-------+-------+------+\n|_c0|        ID|                name|      category|main_category|currency|  deadline|  launched|     state|backers|country|pledged|  goal|\n+---+----------+--------------------+--------------+-------------+--------+----------+----------+----------+-------+-------+-------+------+\n|  0|1000002330|The Songs of Adel...|        Poetry|   Publishing|     GBP|2015-10-09|2015-08-11|    failed|      0|     GB|      0|  1533|\n|  1|1000003930|Greeting From Ear...|Narrative Film| Film & Video|     USD|2017-11-01|2017-09-02|    failed|     15|     US|   2421| 30000|\n|  2|1000004038|      Where is Hank?|Narrative Film| Film & Video|     USD|2013-02-26|2013-01-12|    failed|      3|     US|    220| 45000|\n|  3|1000007540|ToshiCapital Reko...|         Music|        Music|     USD|2012-04-16|2012-03-17|    failed|      1|     US|      1|  5000|\n|  4|1000011046|Community Film Pr...|  Film & Video| Film & Video|     USD|2015-08-29|2015-07-04|  canceled|     14|     US|   1283| 19500|\n|  5|1000014025|Monarch Espresso Bar|   Restaurants|         Food|     USD|2016-04-01|2016-02-26|successful|    224|     US|  52375| 50000|\n|  6|1000023410|Support Solar Roa...|          Food|         Food|     USD|2014-12-21|2014-12-01|successful|     16|     US|   1205|  1000|\n|  7|1000030581|Chaser Strips. Ou...|        Drinks|         Food|     USD|2016-03-17|2016-02-01|    failed|     40|     US|    453| 25000|\n|  8|1000034518|SPIN - Premium Re...|Product Design|       Design|     USD|2014-05-29|2014-04-24|  canceled|     58|     US|   8233|125000|\n|  9| 100004195|STUDIO IN THE SKY...|   Documentary| Film & Video|     USD|2014-08-10|2014-07-11|  canceled|     43|     US|   6240| 65000|\n| 10| 100004721| Of Jesus and Madmen|    Nonfiction|   Publishing|     CAD|2013-10-09|2013-09-09|    failed|      0|     CA|      0|  2406|\n| 11| 100005484|    Lisa Lim New CD!|    Indie Rock|        Music|     USD|2013-04-08|2013-03-09|successful|    100|     US|  12700| 12500|\n| 12|1000055792|  The Cottage Market|        Crafts|       Crafts|     USD|2014-10-02|2014-09-02|    failed|      0|     US|      0|  5000|\n| 13|1000056157|G-Spot Place for ...|         Games|        Games|     USD|2016-03-25|2016-02-09|    failed|      0|     US|      0|200000|\n| 14|1000057089|Tombstone: Old We...|Tabletop Games|        Games|     GBP|2017-05-03|2017-04-05|successful|    761|     GB| 121857|  6469|\n| 15|1000064368|      Survival Rings|        Design|       Design|     USD|2015-02-28|2015-01-29|    failed|     11|     US|    664|  2500|\n| 16|1000064918|           The Beard|   Comic Books|       Comics|     USD|2014-11-08|2014-10-09|    failed|     16|     US|    395|  1500|\n| 17|1000068480|Notes From London...|     Art Books|   Publishing|     USD|2015-05-10|2015-04-10|    failed|     20|     US|    789|  3000|\n| 18|1000070642|Mike Corey's Dark...|         Music|        Music|     USD|2012-08-17|2012-08-02|successful|      7|     US|    250|   250|\n| 19|1000071625|            Boco Tea|          Food|         Food|     USD|2012-06-02|2012-05-03|    failed|     40|     US|   1781|  5000|\n+---+----------+--------------------+--------------+-------------+--------+----------+----------+----------+-------+-------+-------+------+\nonly showing top 20 rows\n\n"
        }
      ],
      "execution_count": 39,
      "metadata": {
        "colab": {
          "base_uri": "https://localhost:8080/"
        },
        "id": "XlZv9-inDjjv",
        "outputId": "fb6c17c8-e77d-47a3-9dc0-02d45d6de703"
      },
      "id": "XlZv9-inDjjv"
    },
    {
      "cell_type": "markdown",
      "source": [
        "## **A.4** - Handling errors, corrupted data\n",
        "---"
      ],
      "metadata": {
        "id": "t4_UCCLh2J4I"
      },
      "id": "t4_UCCLh2J4I"
    },
    {
      "cell_type": "markdown",
      "source": [
        "Scanning through each column to find abnormalities and fix them. Simple as that."
      ],
      "metadata": {
        "id": "962021f0"
      },
      "id": "962021f0"
    },
    {
      "cell_type": "markdown",
      "source": [
        "### Question 7"
      ],
      "metadata": {
        "id": "e0730a74"
      },
      "id": "e0730a74"
    },
    {
      "cell_type": "markdown",
      "source": [
        "Let's start with `category`. Write an expression to display the frequency of the value in the column `category`. (The unique values and how many times they appear)"
      ],
      "metadata": {
        "id": "XjOFSYquuDH9"
      },
      "id": "XjOFSYquuDH9"
    },
    {
      "cell_type": "code",
      "source": [
        "df.groupBy(\"category\").agg(count(\"*\").alias(\"frequency\")).show()"
      ],
      "outputs": [
        {
          "output_type": "stream",
          "name": "stdout",
          "text": "+--------------------+---------+\n|            category|frequency|\n+--------------------+---------+\n|         we create!\"|        1|\n|   I'm Your Cream\"\"\"|        1|\n| a sequel to the ...|        1|\n| Meadower and Car...|        1|\n|     \"\" said Sydney\"|        1|\n|  \"\" World Premiere\"|        1|\n|  Italy by the Yard\"|        1|\n| the parody music...|        1|\n|                   7|        1|\n|             Alcohol|        1|\n| an M.F.A. featur...|        1|\n|         So Sorry\"\"\"|        1|\n| Though I Walk\"\" ...|        1|\n| court-métrage fa...|        1|\n| Final  Recording...|        1|\n| Lust & Straight ...|        1|\n| a one man show a...|        1|\n| Iran and Turkey/...|        1|\n|  there's your quote|        1|\n| Promotion & Dist...|        1|\n+--------------------+---------+\nonly showing top 20 rows\n\n"
        }
      ],
      "execution_count": 40,
      "metadata": {
        "id": "hrCgDTGC-KrK",
        "colab": {
          "base_uri": "https://localhost:8080/"
        },
        "outputId": "0dccae53-9eff-47f2-ba30-0ddbe2aa4759"
      },
      "id": "hrCgDTGC-KrK"
    },
    {
      "cell_type": "markdown",
      "source": [
        "### Question 8"
      ],
      "metadata": {
        "id": "09d1d498"
      },
      "id": "09d1d498"
    },
    {
      "cell_type": "markdown",
      "source": [
        "Do the same to check abnormalities in the column `country`."
      ],
      "metadata": {
        "id": "y0qs9yqruSCT"
      },
      "id": "y0qs9yqruSCT"
    },
    {
      "cell_type": "code",
      "source": [
        "df.groupBy(\"country\").agg(count(\"*\").alias(\"frequency\")).show()"
      ],
      "outputs": [
        {
          "output_type": "stream",
          "name": "stdout",
          "text": "+-------+---------+\n|country|frequency|\n+-------+---------+\n|      7|       24|\n|     51|        6|\n|     54|        5|\n|     15|       13|\n|    155|        1|\n|     NL|     2865|\n|     11|       17|\n|    101|        2|\n|     69|        4|\n|     29|       10|\n| 3168.0|        1|\n|     42|        7|\n|     73|        2|\n|     87|        1|\n|    468|        1|\n|     MX|     1745|\n|     64|        5|\n|      3|       56|\n|     30|        6|\n|     34|        7|\n+-------+---------+\nonly showing top 20 rows\n\n"
        }
      ],
      "execution_count": 41,
      "metadata": {
        "id": "A7W4bQvF-Mmg",
        "colab": {
          "base_uri": "https://localhost:8080/"
        },
        "outputId": "3021ca11-d727-48db-ad4f-0bfd5d2cc97f"
      },
      "id": "A7W4bQvF-Mmg"
    },
    {
      "cell_type": "markdown",
      "source": [
        "### Question 9"
      ],
      "metadata": {
        "id": "33b3f075"
      },
      "id": "33b3f075"
    },
    {
      "cell_type": "markdown",
      "source": [
        "Write an expression to select all rows with that weird value above (`N,0\"`)."
      ],
      "metadata": {
        "id": "qO6iLqLaufJa"
      },
      "id": "qO6iLqLaufJa"
    },
    {
      "cell_type": "code",
      "source": [
        "filtered_df = df.filter(df.currency == 'N,0\"')\n",
        "filtered_df.show()"
      ],
      "outputs": [
        {
          "output_type": "stream",
          "name": "stdout",
          "text": "+--------+\n|currency|\n+--------+\n+--------+\n\n"
        }
      ],
      "execution_count": 48,
      "metadata": {
        "id": "9oAi7OeJ-Nul",
        "colab": {
          "base_uri": "https://localhost:8080/"
        },
        "outputId": "2d9d20a8-55a5-4a22-88f9-3951e1303efa"
      },
      "id": "9oAi7OeJ-Nul"
    },
    {
      "cell_type": "markdown",
      "source": [
        "### Question 10"
      ],
      "metadata": {
        "id": "52269b4a"
      },
      "id": "52269b4a"
    },
    {
      "cell_type": "markdown",
      "source": [
        "Write one line of code to return the ***unique currencies*** of the projects that have country as `N,0\"`?"
      ],
      "metadata": {
        "id": "y15mlWtFuhiX"
      },
      "id": "y15mlWtFuhiX"
    },
    {
      "cell_type": "code",
      "source": [
        "unique_currencies = df.filter(df.currency == 'N,0\"').select('currency').distinct().rdd.map(lambda x: x[0]).collect()"
      ],
      "outputs": [],
      "execution_count": 57,
      "metadata": {
        "id": "Lz337NOOS7ps"
      },
      "id": "Lz337NOOS7ps"
    },
    {
      "cell_type": "markdown",
      "source": [
        "### Question 11"
      ],
      "metadata": {
        "id": "117d16d9"
      },
      "id": "117d16d9"
    },
    {
      "cell_type": "markdown",
      "source": [
        "Our mission is apply a check function onto each row of the country-N0\" part.\n",
        "\n",
        "First, define a function that takes in a whole data row.\n",
        "\n",
        "- If currency is `USD` ---> country is `US`\n",
        "- If currency is `AUD` ---> country is `AU`\n",
        "- If currency is `CAD` ---> country is `CA`\n",
        "- If currency is `GBP` ---> country is `GB`\n",
        "- If currency is `SEK` ---> country is `SE`\n",
        "- If currency is `DKK` ---> country is `DK`\n",
        "- If currency is `NZD` ---> country is `NZ`\n",
        "- If currency is `NOK` ---> country is `NO`\n",
        "- If currency is `CHF` ---> country is `CH`\n",
        "- If currency is `EUR` ---> country is `DE`\n",
        "\n",
        "In the `EUR` case, we choose to replace by the mode --- `DE` (Within projects that in `EUR`, the most are from `DE` -- Germany)"
      ],
      "metadata": {
        "id": "oRwVKNitAEzr"
      },
      "id": "oRwVKNitAEzr"
    },
    {
      "cell_type": "code",
      "source": [
        "from pyspark.sql import SparkSession\n",
        "from pyspark.sql.functions import when\n",
        "\n",
        "# Initialize Spark session\n",
        "spark = SparkSession.builder \\\n",
        "    .appName(\"Currency to Country Check\") \\\n",
        "    .getOrCreate()\n",
        "\n",
        "data = [(\"USD\",), (\"AUD\",), (\"CAD\",), (\"GBP\",), (\"SEK\",), (\"DKK\",), (\"NZD\",), (\"NOK\",), (\"CHF\",), (\"EUR\",)]\n",
        "columns = [\"currency\"]\n",
        "\n",
        "df = spark.createDataFrame(data, columns)\n",
        "\n",
        "df_with_country = df.withColumn(\"country\",\n",
        "    when(df[\"currency\"] == \"USD\", \"US\")\n",
        "    .when(df[\"currency\"] == \"AUD\", \"AU\")\n",
        "    .when(df[\"currency\"] == \"CAD\", \"CA\")\n",
        "    .when(df[\"currency\"] == \"GBP\", \"GB\")\n",
        "    .when(df[\"currency\"] == \"SEK\", \"SE\")\n",
        "    .when(df[\"currency\"] == \"DKK\", \"DK\")\n",
        "    .when(df[\"currency\"] == \"NZD\", \"NZ\")\n",
        "    .when(df[\"currency\"] == \"NOK\", \"NO\")\n",
        "    .when(df[\"currency\"] == \"CHF\", \"CH\")\n",
        "    .otherwise(\"DE\")\n",
        ")\n",
        "\n",
        "df_with_country.show()\n"
      ],
      "outputs": [
        {
          "output_type": "stream",
          "name": "stdout",
          "text": "+--------+-------+\n|currency|country|\n+--------+-------+\n|     USD|     US|\n|     AUD|     AU|\n|     CAD|     CA|\n|     GBP|     GB|\n|     SEK|     SE|\n|     DKK|     DK|\n|     NZD|     NZ|\n|     NOK|     NO|\n|     CHF|     CH|\n|     EUR|     DE|\n+--------+-------+\n\n"
        }
      ],
      "execution_count": 44,
      "metadata": {
        "colab": {
          "base_uri": "https://localhost:8080/"
        },
        "id": "gwl7n-uAIlLf",
        "outputId": "185e4b1c-eff4-4669-bebb-41af06604dea"
      },
      "id": "gwl7n-uAIlLf"
    },
    {
      "cell_type": "markdown",
      "source": [
        "### Question 12"
      ],
      "metadata": {
        "id": "o0PMh0DVyKte"
      },
      "id": "o0PMh0DVyKte"
    },
    {
      "cell_type": "markdown",
      "source": [
        "Save result using .write.parquet()"
      ],
      "metadata": {
        "id": "UkGmLWeRyNJv"
      },
      "id": "UkGmLWeRyNJv"
    },
    {
      "cell_type": "code",
      "source": [
        "df_with_country.write.parquet(\"output.parquet\")"
      ],
      "outputs": [],
      "execution_count": 45,
      "metadata": {
        "id": "Ycw91EQhyMTN"
      },
      "id": "Ycw91EQhyMTN"
    }
  ],
  "metadata": {
    "colab": {
      "provenance": [],
      "collapsed_sections": [
        "cda04901",
        "6b0bd809",
        "26a66451",
        "3408e925",
        "adac13c9",
        "ae00869e",
        "23cdcaad",
        "cIp2lkEK2eq5",
        "b5779535",
        "63542259",
        "t4_UCCLh2J4I",
        "e0730a74",
        "8829a250",
        "0UkWTXmZBImD",
        "09d1d498",
        "77f6lRuqB2kP",
        "33b3f075",
        "52269b4a",
        "117d16d9",
        "a9ad4d83",
        "68da4d8d",
        "4dd5d15d",
        "f956fc37",
        "d4d2d910",
        "13d529d8",
        "6e952725",
        "4b325cdc",
        "0a2b9d6e"
      ]
    },
    "language_info": {
      "name": "python"
    },
    "kernelspec": {
      "name": "python3",
      "display_name": "Python 3"
    },
    "nteract": {
      "version": "nteract-front-end@1.0.0"
    }
  },
  "nbformat": 4,
  "nbformat_minor": 5
}